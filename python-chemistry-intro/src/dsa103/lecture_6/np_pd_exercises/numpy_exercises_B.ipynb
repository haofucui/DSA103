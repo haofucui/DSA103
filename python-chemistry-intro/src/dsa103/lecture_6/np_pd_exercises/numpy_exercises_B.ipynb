{
 "cells": [
  {
   "cell_type": "markdown",
   "metadata": {
    "pycharm": {
     "name": "#%% md\n"
    }
   },
   "source": [
    "# NumPy Exercises with Hints\n",
    "\n",
    "To a some extent, this collection is based on exercises from <https://github.com/rougier/numpy-100> which have been selected by ZI UZH & David Pinezich for the ZI APPD course. The exercises 3-9 have been adapted and their numbering no longer is consistent with the online ressource.\n",
    "\n",
    "A few hints on how to proceed with the exercises: \n",
    "* Use IPython's `?` operator to read documentation on the functions, e.g. `np.any?`\n",
    "* Try to come up with a naive solution first, and only think about a better solution after, i.e. if you can use any NumPy functions or structs to simplify your code. For example, it's not wrong to try to iterate through an array and change every element in a first version (and yes, there probably is an easier way to do it with NumPy functions)\n",
    "* Feel free to always ask questions if you're stuck\n",
    "* Using pen and paper to come up with a solution idea is helpful in a lot of situations\n",
    "* [google.com](http://www.google.com) and [stackoverflow.com](http://www.stackoverflow.com) are your best buddies while programming\n"
   ]
  },
  {
   "cell_type": "markdown",
   "metadata": {
    "pycharm": {
     "name": "#%% md\n"
    }
   },
   "source": [
    "#### 1. Import the numpy package under the name `np` (★☆☆) \n"
   ]
  },
  {
   "cell_type": "code",
   "execution_count": 1,
   "metadata": {
    "pycharm": {
     "name": "#%%\n"
    }
   },
   "outputs": [],
   "source": [
    "import numpy as np"
   ]
  },
  {
   "cell_type": "markdown",
   "metadata": {
    "pycharm": {
     "name": "#%% md\n"
    }
   },
   "source": [
    "#### 2. Print the numpy version and the configuration (★☆☆) \n",
    "(**hint**: np.\\_\\_version\\_\\_, np.show\\_config)"
   ]
  },
  {
   "cell_type": "code",
   "execution_count": 3,
   "metadata": {
    "pycharm": {
     "name": "#%%\n"
    }
   },
   "outputs": [
    {
     "name": "stdout",
     "output_type": "stream",
     "text": [
      "2.3.3\n"
     ]
    },
    {
     "data": {
      "text/plain": [
       "<function numpy.show_config(mode='stdout')>"
      ]
     },
     "execution_count": 3,
     "metadata": {},
     "output_type": "execute_result"
    }
   ],
   "source": [
    "print(np.__version__)\n",
    "np.show_config"
   ]
  },
  {
   "cell_type": "markdown",
   "metadata": {
    "pycharm": {
     "name": "#%% md\n"
    }
   },
   "source": [
    "#### 3.  Create a null vector of size 10 but the fifth value which is 1 (★☆☆) \n",
    "(**hint**: array\\[4\\]) "
   ]
  },
  {
   "cell_type": "code",
   "execution_count": 5,
   "metadata": {},
   "outputs": [
    {
     "name": "stdout",
     "output_type": "stream",
     "text": [
      "[0. 0. 0. 0. 1. 0. 0. 0. 0. 0.]\n"
     ]
    }
   ],
   "source": [
    "a = np.zeros((10))\n",
    "a[4] = 1\n",
    "print(a)"
   ]
  },
  {
   "cell_type": "markdown",
   "metadata": {},
   "source": [
    "#### 4. Create a 3x3x3 array with random values (★☆☆) \n",
    "(**hint**: np.random.random)"
   ]
  },
  {
   "cell_type": "code",
   "execution_count": 6,
   "metadata": {
    "pycharm": {
     "name": "#%%\n"
    }
   },
   "outputs": [
    {
     "name": "stdout",
     "output_type": "stream",
     "text": [
      "[[[ 0  9 13]\n",
      "  [17 13  0]\n",
      "  [16 24 20]]\n",
      "\n",
      " [[ 4 17 22]\n",
      "  [23 19  7]\n",
      "  [23  6 23]]\n",
      "\n",
      " [[28 13  7]\n",
      "  [15 12 25]\n",
      "  [ 4  5  9]]]\n"
     ]
    }
   ],
   "source": [
    "a = np.random.randint(0, 30, (3, 3, 3))\n",
    "print(a)"
   ]
  },
  {
   "cell_type": "markdown",
   "metadata": {},
   "source": [
    "#### 5.  How to get information on the dimensions of an array (★☆☆) \n",
    "(**hint**: ndim, shape)"
   ]
  },
  {
   "cell_type": "code",
   "execution_count": 10,
   "metadata": {},
   "outputs": [
    {
     "name": "stdout",
     "output_type": "stream",
     "text": [
      "[[0.70109742 0.31377375 0.76963404 0.36985829 0.40408447 0.76269409\n",
      "  0.47655811 0.51650511 0.47404592 0.3017721 ]\n",
      " [0.74025439 0.38202942 0.54569294 0.3047286  0.0890689  0.54571507\n",
      "  0.57910191 0.1578323  0.41339192 0.64315083]\n",
      " [0.58008075 0.78651146 0.87028491 0.02303807 0.38683977 0.74613911\n",
      "  0.27797456 0.94866135 0.27393616 0.88143707]\n",
      " [0.32932653 0.76306285 0.13997553 0.04514827 0.17175768 0.69805536\n",
      "  0.5390365  0.02986333 0.34064867 0.80760577]\n",
      " [0.0897716  0.60220855 0.00368026 0.57386782 0.00138074 0.31542288\n",
      "  0.43618205 0.67331147 0.97522481 0.49124252]\n",
      " [0.94591113 0.377247   0.74116324 0.58649918 0.23975172 0.66745496\n",
      "  0.84480612 0.22157283 0.30057133 0.09770542]\n",
      " [0.4284994  0.42041667 0.97525002 0.80263117 0.41147252 0.62588488\n",
      "  0.96654843 0.29438805 0.98575588 0.52051034]\n",
      " [0.16033926 0.54281864 0.88392978 0.44510168 0.66857923 0.89068084\n",
      "  0.55933346 0.66487111 0.3419575  0.34952797]\n",
      " [0.3625452  0.77073809 0.64391493 0.6672794  0.94912258 0.17576417\n",
      "  0.22406381 0.81777289 0.02173288 0.26952424]\n",
      " [0.21150944 0.36762056 0.11822566 0.18982419 0.15100317 0.5899909\n",
      "  0.18285865 0.96297607 0.77959912 0.69786292]]\n",
      "2\n",
      "(10, 10)\n"
     ]
    }
   ],
   "source": [
    "Z = np.random.random((10,10))\n",
    "print(Z)\n",
    "print(Z.ndim)\n",
    "print(Z.shape)"
   ]
  },
  {
   "cell_type": "markdown",
   "metadata": {},
   "source": [
    "#### 6.  Return only the even numbers in a 1D array (★☆☆) \n",
    "(**hint**: Use slicing)"
   ]
  },
  {
   "cell_type": "code",
   "execution_count": 13,
   "metadata": {
    "pycharm": {
     "name": "#%%\n"
    }
   },
   "outputs": [
    {
     "name": "stdout",
     "output_type": "stream",
     "text": [
      "[ 0  1  2  3  4  5  6  7  8  9 10 11 12 13 14 15 16 17 18 19 20 21 22 23\n",
      " 24 25 26 27 28 29 30 31 32 33 34 35 36 37 38 39 40 41 42 43 44 45 46 47\n",
      " 48 49]\n",
      "[ 0  2  4  6  8 10 12 14 16 18 20 22 24 26 28 30 32 34 36 38 40 42 44 46\n",
      " 48]\n"
     ]
    }
   ],
   "source": [
    "Z = np.arange(50)\n",
    "E = Z[::2]\n",
    "print(Z)\n",
    "print(E)"
   ]
  },
  {
   "cell_type": "markdown",
   "metadata": {
    "pycharm": {
     "name": "#%% md\n"
    }
   },
   "source": [
    "#### 7. Create a 10x10 array with 1 on the border and 0 inside (★☆☆) \n",
    "(**hint**: Use slicing)"
   ]
  },
  {
   "cell_type": "code",
   "execution_count": 6,
   "metadata": {
    "pycharm": {
     "name": "#%%\n"
    }
   },
   "outputs": [
    {
     "data": {
      "text/plain": [
       "array([[1., 1., 1., 1., 1., 1., 1., 1., 1., 1.],\n",
       "       [1., 0., 0., 0., 0., 0., 0., 0., 0., 1.],\n",
       "       [1., 0., 0., 0., 0., 0., 0., 0., 0., 1.],\n",
       "       [1., 0., 0., 0., 0., 0., 0., 0., 0., 1.],\n",
       "       [1., 0., 0., 0., 0., 0., 0., 0., 0., 1.],\n",
       "       [1., 0., 0., 0., 0., 0., 0., 0., 0., 1.],\n",
       "       [1., 0., 0., 0., 0., 0., 0., 0., 0., 1.],\n",
       "       [1., 0., 0., 0., 0., 0., 0., 0., 0., 1.],\n",
       "       [1., 0., 0., 0., 0., 0., 0., 0., 0., 1.],\n",
       "       [1., 1., 1., 1., 1., 1., 1., 1., 1., 1.]])"
      ]
     },
     "execution_count": 6,
     "metadata": {},
     "output_type": "execute_result"
    }
   ],
   "source": [
    "X=np.ones((10,10))\n",
    "X[1:9,1:9] = 0\n",
    "X"
   ]
  },
  {
   "cell_type": "markdown",
   "metadata": {},
   "source": [
    "#### 8. Find the maximum value in a random 5x5 array and calculate for all elements the percentages to the maximum value (★☆☆) \n",
    "(**hint**: max, use ufuncs)"
   ]
  },
  {
   "cell_type": "code",
   "execution_count": 18,
   "metadata": {},
   "outputs": [
    {
     "name": "stdout",
     "output_type": "stream",
     "text": [
      "[[27  7  0  5 26]\n",
      " [14  0 16  3  2]\n",
      " [15 27 28  0 22]\n",
      " [ 5 24 15 25  9]\n",
      " [16  8 13 13  2]]\n",
      "28\n",
      "[[0.96428571 0.25       0.         0.17857143 0.92857143]\n",
      " [0.5        0.         0.57142857 0.10714286 0.07142857]\n",
      " [0.53571429 0.96428571 1.         0.         0.78571429]\n",
      " [0.17857143 0.85714286 0.53571429 0.89285714 0.32142857]\n",
      " [0.57142857 0.28571429 0.46428571 0.46428571 0.07142857]]\n"
     ]
    }
   ],
   "source": [
    "A = np.random.randint(0, 30, (5, 5))\n",
    "m = A.max()\n",
    "D = A / m\n",
    "print(A)\n",
    "print(m)\n",
    "print(D)"
   ]
  },
  {
   "cell_type": "markdown",
   "metadata": {
    "pycharm": {
     "name": "#%% md\n"
    }
   },
   "source": [
    "#### 9. With the help of Boolean masking, extract from the array `np.array([3,4,6,10,24,89,45,43,46,99,100])` the numbers (★☆☆) \n",
    "\n",
    "* which are not divisible by 3\n",
    "* which are divisible by 5\n",
    "* which are divisible by 3 and 5\n",
    "* which are divisible by 3 and set them to 42\n",
    "\n",
    "(**hint**: Use the modulo operator)\n"
   ]
  },
  {
   "cell_type": "code",
   "execution_count": 21,
   "metadata": {},
   "outputs": [
    {
     "name": "stdout",
     "output_type": "stream",
     "text": [
      "[  4  10  89  43  46 100]\n",
      "[ 10  45 100]\n",
      "[45]\n",
      "[ 42   4  42  10  42  89  42  43  46  42 100]\n"
     ]
    }
   ],
   "source": [
    "O = np.array([3, 4, 6, 10, 24, 89, 45, 43, 46, 99, 100])\n",
    "BM_Ndiv3 = (O % 3 != 0)\n",
    "BM_div5 = (O % 5 == 0)\n",
    "BM_div35 = (O % 3 == 0) & (O % 5 == 0)\n",
    "BM_div3 = (O % 3 == 0)\n",
    "print(O[BM_Ndiv3])\n",
    "print(O[BM_div5])\n",
    "print(O[BM_div35])\n",
    "O[BM_div3] = 42\n",
    "print(O)"
   ]
  },
  {
   "cell_type": "markdown",
   "metadata": {},
   "source": [
    "## Bonus exercises, a bit more difficult and just for fun.\n",
    "\n",
    "Selected examples from <https://github.com/rougier/numpy-100>.\n"
   ]
  },
  {
   "cell_type": "markdown",
   "metadata": {
    "pycharm": {
     "name": "#%% md\n"
    }
   },
   "source": [
    "#### 35. How to compute ((A+B)\\*(-A/2)) in place (without copy)? (★★☆) \n",
    "(**hint**: np.add(out=), np.negative(out=), np.multiply(out=), np.divide(out=))"
   ]
  },
  {
   "cell_type": "code",
   "execution_count": 4,
   "metadata": {
    "pycharm": {
     "name": "#%%\n"
    }
   },
   "outputs": [],
   "source": [
    "A = np.ones(3)*1\n",
    "B = np.ones(3)*2\n",
    "C = np.ones(3)*3"
   ]
  },
  {
   "cell_type": "markdown",
   "metadata": {
    "pycharm": {
     "name": "#%% md\n"
    }
   },
   "source": [
    "#### 37. Create a 5x5 matrix with row values ranging from 0 to 4 (★★☆) \n",
    "(**hint**: np.arange)"
   ]
  },
  {
   "cell_type": "code",
   "execution_count": 4,
   "metadata": {
    "pycharm": {
     "name": "#%%\n"
    }
   },
   "outputs": [],
   "source": []
  },
  {
   "cell_type": "markdown",
   "metadata": {
    "pycharm": {
     "name": "#%% md\n"
    }
   },
   "source": [
    "#### 39. Create an array with values ranging from 0 to 1 and elements inbetween which are spaced 0.1 (★★☆) \n",
    "(**hint**: np.linspace)"
   ]
  },
  {
   "cell_type": "code",
   "execution_count": 4,
   "metadata": {
    "pycharm": {
     "name": "#%%\n"
    }
   },
   "outputs": [],
   "source": []
  },
  {
   "cell_type": "markdown",
   "metadata": {
    "pycharm": {
     "name": "#%% md\n"
    }
   },
   "source": [
    "#### 40. Create a random array of size 10 and sort it (★★☆) \n",
    "(**hint**: sort)"
   ]
  },
  {
   "cell_type": "code",
   "execution_count": 4,
   "metadata": {
    "pycharm": {
     "name": "#%%\n"
    }
   },
   "outputs": [],
   "source": []
  },
  {
   "cell_type": "markdown",
   "metadata": {
    "pycharm": {
     "name": "#%% md\n"
    }
   },
   "source": [
    "#### 41. How to sum a small array faster than np.sum? (★★☆) \n",
    "(**hint**: np.add.reduce)"
   ]
  },
  {
   "cell_type": "code",
   "execution_count": 4,
   "metadata": {
    "pycharm": {
     "name": "#%%\n"
    }
   },
   "outputs": [],
   "source": []
  },
  {
   "cell_type": "markdown",
   "metadata": {
    "pycharm": {
     "name": "#%% md\n"
    }
   },
   "source": [
    "#### 45. Create random vector of size 10 and replace the maximum value by 0 (★★☆) \n",
    "(**hint**: argmax)"
   ]
  },
  {
   "cell_type": "code",
   "execution_count": 4,
   "metadata": {
    "pycharm": {
     "name": "#%%\n"
    }
   },
   "outputs": [],
   "source": []
  },
  {
   "cell_type": "markdown",
   "metadata": {
    "pycharm": {
     "name": "#%% md\n"
    }
   },
   "source": [
    "#### 50. How to find the closest value (to a given scalar) in a vector to another given value? (★★☆)\n",
    "\n",
    "(**hint**: argmin)"
   ]
  },
  {
   "cell_type": "code",
   "execution_count": 4,
   "metadata": {
    "pycharm": {
     "name": "#%%\n"
    }
   },
   "outputs": [],
   "source": [
    "Z = np.arange(100)\n",
    "v = np.random.uniform(0,100)"
   ]
  },
  {
   "cell_type": "markdown",
   "metadata": {
    "pycharm": {
     "name": "#%% md\n"
    }
   },
   "source": [
    "#### 58. Subtract the mean of each row of a matrix (★★☆) \n",
    "(**hint**: mean(axis=,keepdims=))"
   ]
  },
  {
   "cell_type": "code",
   "execution_count": 4,
   "metadata": {
    "pycharm": {
     "name": "#%%\n"
    }
   },
   "outputs": [],
   "source": [
    "X = np.random.rand(5, 10)"
   ]
  },
  {
   "cell_type": "markdown",
   "metadata": {
    "pycharm": {
     "name": "#%% md\n"
    }
   },
   "source": [
    "#### 59. How to sort an array by the nth column? (★★☆) \n",
    "(**hint**: argsort)"
   ]
  },
  {
   "cell_type": "code",
   "execution_count": 4,
   "metadata": {
    "pycharm": {
     "name": "#%%\n"
    }
   },
   "outputs": [],
   "source": [
    "Z = np.random.randint(0,10,(3,3))"
   ]
  },
  {
   "cell_type": "markdown",
   "metadata": {
    "pycharm": {
     "name": "#%% md\n"
    }
   },
   "source": [
    "#### 60. How to tell if a given 2D array has null columns? (★★☆) \n",
    "(**hint**: any, ~)"
   ]
  },
  {
   "cell_type": "code",
   "execution_count": 4,
   "metadata": {
    "pycharm": {
     "name": "#%%\n"
    }
   },
   "outputs": [],
   "source": [
    "Z = np.random.randint(0,3,(3,10))"
   ]
  },
  {
   "cell_type": "markdown",
   "metadata": {
    "pycharm": {
     "name": "#%% md\n"
    }
   },
   "source": [
    "#### 69. How to get the diagonal of a dot product? (★★★) \n",
    "(**hint**: np.diag)"
   ]
  },
  {
   "cell_type": "code",
   "execution_count": 4,
   "metadata": {
    "pycharm": {
     "name": "#%%\n"
    }
   },
   "outputs": [],
   "source": [
    "A = np.random.uniform(0,1,(5,5))\n",
    "B = np.random.uniform(0,1,(5,5))"
   ]
  },
  {
   "cell_type": "markdown",
   "metadata": {
    "pycharm": {
     "name": "#%% md\n"
    }
   },
   "source": [
    "#### 70. Consider the vector \\[1, 2, 3, 4, 5\\], how to build a new vector with 3 consecutive zeros interleaved between each value? (★★★) \n",
    "(**hint**: array\\[::4\\])"
   ]
  },
  {
   "cell_type": "code",
   "execution_count": 4,
   "metadata": {
    "pycharm": {
     "name": "#%%\n"
    }
   },
   "outputs": [],
   "source": []
  },
  {
   "cell_type": "markdown",
   "metadata": {
    "pycharm": {
     "name": "#%% md\n"
    }
   },
   "source": [
    "#### 71. Consider an array of dimension (5,5,3), how to mulitply it by an array with dimensions (5,5)? (★★★) \n",
    "(**hint**: array\\[:, :, None\\])"
   ]
  },
  {
   "cell_type": "code",
   "execution_count": 4,
   "metadata": {
    "pycharm": {
     "name": "#%%\n"
    }
   },
   "outputs": [],
   "source": []
  },
  {
   "cell_type": "markdown",
   "metadata": {
    "pycharm": {
     "name": "#%% md\n"
    }
   },
   "source": [
    "#### 77. How to negate a boolean, or to change the sign of a float inplace? (★★★) \n",
    "(**hint**: np.logical_not, np.negative)"
   ]
  },
  {
   "cell_type": "code",
   "execution_count": 4,
   "metadata": {
    "pycharm": {
     "name": "#%%\n"
    }
   },
   "outputs": [],
   "source": []
  }
 ],
 "metadata": {
  "kernelspec": {
   "display_name": "python-chemistry-intro",
   "language": "python",
   "name": "python3"
  },
  "language_info": {
   "codemirror_mode": {
    "name": "ipython",
    "version": 3
   },
   "file_extension": ".py",
   "mimetype": "text/x-python",
   "name": "python",
   "nbconvert_exporter": "python",
   "pygments_lexer": "ipython3",
   "version": "3.9.10"
  }
 },
 "nbformat": 4,
 "nbformat_minor": 1
}
