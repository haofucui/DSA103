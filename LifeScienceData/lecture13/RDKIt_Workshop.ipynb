{
 "cells": [
  {
   "cell_type": "markdown",
   "id": "63817116",
   "metadata": {},
   "source": [
    "# RDKit workshop\n",
    "\n",
    "In the following, RDKit will be applied to explore a chemical dataset (Delaney) on the solubility of various substances in water (logS(mol/L))."
   ]
  },
  {
   "cell_type": "markdown",
   "id": "0fe133bb",
   "metadata": {},
   "source": [
    "### Part 1: Data loading and exploration\n",
    "\n",
    "Inspect the dataset and visualise the solubility distribution (EDA). Tasks:\n",
    "- How many compounds are in the dataset?\n",
    "- What is the average and range of the solubility values in the dataset?\n",
    "- Are there extreme outliers (e.g. box plot)?"
   ]
  },
  {
   "cell_type": "code",
   "execution_count": 1,
   "id": "fd60ae7d",
   "metadata": {},
   "outputs": [
    {
     "data": {
      "text/html": [
       "<div>\n",
       "<style scoped>\n",
       "    .dataframe tbody tr th:only-of-type {\n",
       "        vertical-align: middle;\n",
       "    }\n",
       "\n",
       "    .dataframe tbody tr th {\n",
       "        vertical-align: top;\n",
       "    }\n",
       "\n",
       "    .dataframe thead th {\n",
       "        text-align: right;\n",
       "    }\n",
       "</style>\n",
       "<table border=\"1\" class=\"dataframe\">\n",
       "  <thead>\n",
       "    <tr style=\"text-align: right;\">\n",
       "      <th></th>\n",
       "      <th>Compound ID</th>\n",
       "      <th>logS</th>\n",
       "      <th>SMILES</th>\n",
       "    </tr>\n",
       "  </thead>\n",
       "  <tbody>\n",
       "    <tr>\n",
       "      <th>0</th>\n",
       "      <td>1,1,1,2-Tetrachloroethane</td>\n",
       "      <td>-2.180</td>\n",
       "      <td>ClCC(Cl)(Cl)Cl</td>\n",
       "    </tr>\n",
       "    <tr>\n",
       "      <th>1</th>\n",
       "      <td>1,1,1-Trichloroethane</td>\n",
       "      <td>-2.000</td>\n",
       "      <td>CC(Cl)(Cl)Cl</td>\n",
       "    </tr>\n",
       "    <tr>\n",
       "      <th>2</th>\n",
       "      <td>1,1,2,2-Tetrachloroethane</td>\n",
       "      <td>-1.740</td>\n",
       "      <td>ClC(Cl)C(Cl)Cl</td>\n",
       "    </tr>\n",
       "    <tr>\n",
       "      <th>3</th>\n",
       "      <td>1,1,2-Trichloroethane</td>\n",
       "      <td>-1.480</td>\n",
       "      <td>ClCC(Cl)Cl</td>\n",
       "    </tr>\n",
       "    <tr>\n",
       "      <th>4</th>\n",
       "      <td>1,1,2-Trichlorotrifluoroethane</td>\n",
       "      <td>-3.040</td>\n",
       "      <td>FC(F)(Cl)C(F)(Cl)Cl</td>\n",
       "    </tr>\n",
       "    <tr>\n",
       "      <th>...</th>\n",
       "      <td>...</td>\n",
       "      <td>...</td>\n",
       "      <td>...</td>\n",
       "    </tr>\n",
       "    <tr>\n",
       "      <th>1139</th>\n",
       "      <td>vamidothion</td>\n",
       "      <td>1.144</td>\n",
       "      <td>CNC(=O)C(C)SCCSP(=O)(OC)(OC)</td>\n",
       "    </tr>\n",
       "    <tr>\n",
       "      <th>1140</th>\n",
       "      <td>Vinclozolin</td>\n",
       "      <td>-4.925</td>\n",
       "      <td>CC1(OC(=O)N(C1=O)c2cc(Cl)cc(Cl)c2)C=C</td>\n",
       "    </tr>\n",
       "    <tr>\n",
       "      <th>1141</th>\n",
       "      <td>Warfarin</td>\n",
       "      <td>-3.893</td>\n",
       "      <td>CC(=O)CC(c1ccccc1)c3c(O)c2ccccc2oc3=O</td>\n",
       "    </tr>\n",
       "    <tr>\n",
       "      <th>1142</th>\n",
       "      <td>Xipamide</td>\n",
       "      <td>-3.790</td>\n",
       "      <td>Cc1cccc(C)c1NC(=O)c2cc(c(Cl)cc2O)S(N)(=O)=O</td>\n",
       "    </tr>\n",
       "    <tr>\n",
       "      <th>1143</th>\n",
       "      <td>XMC</td>\n",
       "      <td>-2.581</td>\n",
       "      <td>CNC(=O)Oc1cc(C)cc(C)c1</td>\n",
       "    </tr>\n",
       "  </tbody>\n",
       "</table>\n",
       "<p>1144 rows × 3 columns</p>\n",
       "</div>"
      ],
      "text/plain": [
       "                         Compound ID   logS  \\\n",
       "0          1,1,1,2-Tetrachloroethane -2.180   \n",
       "1              1,1,1-Trichloroethane -2.000   \n",
       "2          1,1,2,2-Tetrachloroethane -1.740   \n",
       "3              1,1,2-Trichloroethane -1.480   \n",
       "4     1,1,2-Trichlorotrifluoroethane -3.040   \n",
       "...                              ...    ...   \n",
       "1139                     vamidothion  1.144   \n",
       "1140                     Vinclozolin -4.925   \n",
       "1141                        Warfarin -3.893   \n",
       "1142                        Xipamide -3.790   \n",
       "1143                             XMC -2.581   \n",
       "\n",
       "                                           SMILES  \n",
       "0                                  ClCC(Cl)(Cl)Cl  \n",
       "1                                    CC(Cl)(Cl)Cl  \n",
       "2                                  ClC(Cl)C(Cl)Cl  \n",
       "3                                      ClCC(Cl)Cl  \n",
       "4                             FC(F)(Cl)C(F)(Cl)Cl  \n",
       "...                                           ...  \n",
       "1139                 CNC(=O)C(C)SCCSP(=O)(OC)(OC)  \n",
       "1140        CC1(OC(=O)N(C1=O)c2cc(Cl)cc(Cl)c2)C=C  \n",
       "1141       CC(=O)CC(c1ccccc1)c3c(O)c2ccccc2oc3=O   \n",
       "1142  Cc1cccc(C)c1NC(=O)c2cc(c(Cl)cc2O)S(N)(=O)=O  \n",
       "1143                       CNC(=O)Oc1cc(C)cc(C)c1  \n",
       "\n",
       "[1144 rows x 3 columns]"
      ]
     },
     "execution_count": 1,
     "metadata": {},
     "output_type": "execute_result"
    }
   ],
   "source": [
    "import pandas as pd\n",
    "import seaborn as sns\n",
    "import matplotlib.pyplot as plt\n",
    "\n",
    "df = pd.read_csv(\"delaney.csv\")\n",
    "df"
   ]
  },
  {
   "cell_type": "code",
   "execution_count": 6,
   "id": "1574f93d",
   "metadata": {},
   "outputs": [
    {
     "data": {
      "text/html": [
       "<div>\n",
       "<style scoped>\n",
       "    .dataframe tbody tr th:only-of-type {\n",
       "        vertical-align: middle;\n",
       "    }\n",
       "\n",
       "    .dataframe tbody tr th {\n",
       "        vertical-align: top;\n",
       "    }\n",
       "\n",
       "    .dataframe thead th {\n",
       "        text-align: right;\n",
       "    }\n",
       "</style>\n",
       "<table border=\"1\" class=\"dataframe\">\n",
       "  <thead>\n",
       "    <tr style=\"text-align: right;\">\n",
       "      <th></th>\n",
       "      <th>logS</th>\n",
       "    </tr>\n",
       "  </thead>\n",
       "  <tbody>\n",
       "    <tr>\n",
       "      <th>count</th>\n",
       "      <td>1144.000000</td>\n",
       "    </tr>\n",
       "    <tr>\n",
       "      <th>mean</th>\n",
       "      <td>-3.057997</td>\n",
       "    </tr>\n",
       "    <tr>\n",
       "      <th>std</th>\n",
       "      <td>2.096502</td>\n",
       "    </tr>\n",
       "    <tr>\n",
       "      <th>min</th>\n",
       "      <td>-11.600000</td>\n",
       "    </tr>\n",
       "    <tr>\n",
       "      <th>25%</th>\n",
       "      <td>-4.332250</td>\n",
       "    </tr>\n",
       "    <tr>\n",
       "      <th>50%</th>\n",
       "      <td>-2.870500</td>\n",
       "    </tr>\n",
       "    <tr>\n",
       "      <th>75%</th>\n",
       "      <td>-1.600000</td>\n",
       "    </tr>\n",
       "    <tr>\n",
       "      <th>max</th>\n",
       "      <td>1.580000</td>\n",
       "    </tr>\n",
       "  </tbody>\n",
       "</table>\n",
       "</div>"
      ],
      "text/plain": [
       "              logS\n",
       "count  1144.000000\n",
       "mean     -3.057997\n",
       "std       2.096502\n",
       "min     -11.600000\n",
       "25%      -4.332250\n",
       "50%      -2.870500\n",
       "75%      -1.600000\n",
       "max       1.580000"
      ]
     },
     "execution_count": 6,
     "metadata": {},
     "output_type": "execute_result"
    }
   ],
   "source": [
    "df.describe()\n",
    "#num = len(df)"
   ]
  },
  {
   "cell_type": "code",
   "execution_count": 7,
   "id": "99102051",
   "metadata": {},
   "outputs": [
    {
     "data": {
      "image/png": "[encoded data removed]",
      "text/plain": [
       "<Figure size 640x480 with 1 Axes>"
      ]
     },
     "metadata": {},
     "output_type": "display_data"
    }
   ],
   "source": [
    "\n",
    "sns.histplot(df['logS'], bins=20, kde=True)\n",
    "plt.title(\"Distribution of Aqueous Solubility (logS)\")\n",
    "plt.show()"
   ]
  },
  {
   "cell_type": "markdown",
   "id": "79388ddd",
   "metadata": {},
   "source": [
    "### Part 2: Compute descriptors with RDKit\n",
    "\n",
    "Calculate molecular descriptors from the SMILES. See snippet below for the syntax of doing so.\n",
    "\n",
    "Tasks:\n",
    "- Compute 5-10 descriptors based on the SMILES (e.g. use the apply() method in pandas) and add them to the DataFrame\n",
    "- Find out if there is any correlation of the descriptors and the solubility (e.g. plots)\n",
    "\n",
    "Some info on available descriptors: \n",
    "- https://github.com/hypowergravity/RDKitDescriptorExamples-\n",
    "- https://schwallergroup.github.io/practical-programming-in-chemistry/tutorials/lecture_05/02_rdkit_descriptors.html\n",
    "- https://deepwiki.com/rdkit/rdkit/6.1-chemical-reactions#molecular-descriptors-and-properties"
   ]
  },
  {
   "cell_type": "code",
   "execution_count": 17,
   "id": "b636ee90",
   "metadata": {},
   "outputs": [
    {
     "data": {
      "text/html": [
       "<div>\n",
       "<style scoped>\n",
       "    .dataframe tbody tr th:only-of-type {\n",
       "        vertical-align: middle;\n",
       "    }\n",
       "\n",
       "    .dataframe tbody tr th {\n",
       "        vertical-align: top;\n",
       "    }\n",
       "\n",
       "    .dataframe thead th {\n",
       "        text-align: right;\n",
       "    }\n",
       "</style>\n",
       "<table border=\"1\" class=\"dataframe\">\n",
       "  <thead>\n",
       "    <tr style=\"text-align: right;\">\n",
       "      <th></th>\n",
       "      <th>Compound ID</th>\n",
       "      <th>logS</th>\n",
       "      <th>SMILES</th>\n",
       "      <th>MolWt</th>\n",
       "      <th>MolLogP</th>\n",
       "      <th>TPSA</th>\n",
       "      <th>NumHDonors</th>\n",
       "      <th>NumHAcceptors</th>\n",
       "      <th>NumHeteroatoms</th>\n",
       "      <th>HeavyAtomCount</th>\n",
       "    </tr>\n",
       "  </thead>\n",
       "  <tbody>\n",
       "    <tr>\n",
       "      <th>0</th>\n",
       "      <td>1,1,1,2-Tetrachloroethane</td>\n",
       "      <td>-2.18</td>\n",
       "      <td>ClCC(Cl)(Cl)Cl</td>\n",
       "      <td>167.850</td>\n",
       "      <td>2.5954</td>\n",
       "      <td>0.0</td>\n",
       "      <td>0</td>\n",
       "      <td>0</td>\n",
       "      <td>4</td>\n",
       "      <td>6</td>\n",
       "    </tr>\n",
       "    <tr>\n",
       "      <th>1</th>\n",
       "      <td>1,1,1-Trichloroethane</td>\n",
       "      <td>-2.00</td>\n",
       "      <td>CC(Cl)(Cl)Cl</td>\n",
       "      <td>133.405</td>\n",
       "      <td>2.3765</td>\n",
       "      <td>0.0</td>\n",
       "      <td>0</td>\n",
       "      <td>0</td>\n",
       "      <td>3</td>\n",
       "      <td>5</td>\n",
       "    </tr>\n",
       "    <tr>\n",
       "      <th>2</th>\n",
       "      <td>1,1,2,2-Tetrachloroethane</td>\n",
       "      <td>-1.74</td>\n",
       "      <td>ClC(Cl)C(Cl)Cl</td>\n",
       "      <td>167.850</td>\n",
       "      <td>2.5938</td>\n",
       "      <td>0.0</td>\n",
       "      <td>0</td>\n",
       "      <td>0</td>\n",
       "      <td>4</td>\n",
       "      <td>6</td>\n",
       "    </tr>\n",
       "    <tr>\n",
       "      <th>3</th>\n",
       "      <td>1,1,2-Trichloroethane</td>\n",
       "      <td>-1.48</td>\n",
       "      <td>ClCC(Cl)Cl</td>\n",
       "      <td>133.405</td>\n",
       "      <td>2.0289</td>\n",
       "      <td>0.0</td>\n",
       "      <td>0</td>\n",
       "      <td>0</td>\n",
       "      <td>3</td>\n",
       "      <td>5</td>\n",
       "    </tr>\n",
       "    <tr>\n",
       "      <th>4</th>\n",
       "      <td>1,1,2-Trichlorotrifluoroethane</td>\n",
       "      <td>-3.04</td>\n",
       "      <td>FC(F)(Cl)C(F)(Cl)Cl</td>\n",
       "      <td>187.375</td>\n",
       "      <td>2.9189</td>\n",
       "      <td>0.0</td>\n",
       "      <td>0</td>\n",
       "      <td>0</td>\n",
       "      <td>6</td>\n",
       "      <td>8</td>\n",
       "    </tr>\n",
       "  </tbody>\n",
       "</table>\n",
       "</div>"
      ],
      "text/plain": [
       "                      Compound ID  logS               SMILES    MolWt  \\\n",
       "0       1,1,1,2-Tetrachloroethane -2.18       ClCC(Cl)(Cl)Cl  167.850   \n",
       "1           1,1,1-Trichloroethane -2.00         CC(Cl)(Cl)Cl  133.405   \n",
       "2       1,1,2,2-Tetrachloroethane -1.74       ClC(Cl)C(Cl)Cl  167.850   \n",
       "3           1,1,2-Trichloroethane -1.48           ClCC(Cl)Cl  133.405   \n",
       "4  1,1,2-Trichlorotrifluoroethane -3.04  FC(F)(Cl)C(F)(Cl)Cl  187.375   \n",
       "\n",
       "   MolLogP  TPSA  NumHDonors  NumHAcceptors  NumHeteroatoms  HeavyAtomCount  \n",
       "0   2.5954   0.0           0              0               4               6  \n",
       "1   2.3765   0.0           0              0               3               5  \n",
       "2   2.5938   0.0           0              0               4               6  \n",
       "3   2.0289   0.0           0              0               3               5  \n",
       "4   2.9189   0.0           0              0               6               8  "
      ]
     },
     "execution_count": 17,
     "metadata": {},
     "output_type": "execute_result"
    }
   ],
   "source": [
    "from rdkit import Chem\n",
    "from rdkit.Chem import Descriptors\n",
    "\n",
    "# Syntax for deriving descriptors:\n",
    "# 1) convert smiles to Mol: mol = Chem.MolFromSmiles(smiles)\n",
    "# 2) derive descriptor, e.g. for MolWt: descr = Descriptors.MolWt(mol)\n",
    "\n",
    "descr_list = ['MolWt', 'MolLogP', 'TPSA', 'NumHDonors', 'NumHAcceptors', 'NumHeteroatoms', 'HeavyAtomCount']\n",
    "def calc_descriptors(smiles):\n",
    "    mol = Chem.MolFromSmiles(smiles)\n",
    "    return getattr(Descriptors, descr)(mol)\n",
    "\n",
    "for descr in descr_list:\n",
    "    df[descr] = df['SMILES'].apply(lambda s: calc_descriptors(s))\n",
    "\n",
    "df.head()\n",
    "\n"
   ]
  },
  {
   "cell_type": "markdown",
   "id": "9688df67",
   "metadata": {},
   "source": [
    "### Part 3: Predict solubility (Regression Model)\n",
    "\n",
    "Use the code below to predict the logS using a RandomForestRegressor:"
   ]
  },
  {
   "cell_type": "code",
   "execution_count": 18,
   "id": "1028d94c",
   "metadata": {},
   "outputs": [
    {
     "name": "stdout",
     "output_type": "stream",
     "text": [
      "R²: 0.9077652765413968\n",
      "RMSE: 0.6337507604582782\n",
      "train accuracy: 0.9806966698045709\n",
      "test accuracy: 0.9077652765413968\n"
     ]
    }
   ],
   "source": [
    "from sklearn.model_selection import train_test_split\n",
    "from sklearn.ensemble import RandomForestRegressor\n",
    "from sklearn.metrics import r2_score, mean_squared_error\n",
    "import numpy as np\n",
    "\n",
    "X = df.drop(columns=[\"logS\", \"Compound ID\", \"SMILES\"], axis=1)\n",
    "y = df[\"logS\"]\n",
    "\n",
    "X_train, X_test, y_train, y_test = train_test_split(X, y, test_size=0.2, random_state=42)\n",
    "model = RandomForestRegressor(n_estimators=200, random_state=42)\n",
    "model.fit(X_train, y_train)\n",
    "pred = model.predict(X_test)\n",
    "\n",
    "print(\"R²:\", r2_score(y_test, pred))\n",
    "print(\"RMSE:\", np.sqrt(mean_squared_error(y_test, pred)))\n",
    "print(\"train accuracy:\", model.score(X_train, y_train))\n",
    "print(\"test accuracy:\", model.score(X_test, y_test))\n"
   ]
  },
  {
   "cell_type": "markdown",
   "id": "d9f5ae07",
   "metadata": {},
   "source": [
    "Based on the EDA, which descriptors might influence the solubility the most?"
   ]
  },
  {
   "cell_type": "code",
   "execution_count": 19,
   "id": "4389c7e0",
   "metadata": {},
   "outputs": [
    {
     "data": {
      "image/png": "[encoded data removed]",
      "text/plain": [
       "<Figure size 640x480 with 1 Axes>"
      ]
     },
     "metadata": {},
     "output_type": "display_data"
    }
   ],
   "source": [
    "feat_importances = pd.Series(model.feature_importances_, index=X.columns)\n",
    "feat_importances.sort_values().plot(kind='barh')\n",
    "plt.title(\"Feature Importances\")\n",
    "plt.show()"
   ]
  },
  {
   "cell_type": "markdown",
   "id": "079470df",
   "metadata": {},
   "source": [
    "### Part 4: Similarity Search\n",
    "\n",
    "Create fingerprints from the SMILES and add them to the dataframe."
   ]
  },
  {
   "cell_type": "code",
   "execution_count": null,
   "id": "a2acb79b",
   "metadata": {},
   "outputs": [],
   "source": [
    "from rdkit.Chem import rdFingerprintGenerator, DataStructs\n",
    "\n",
    "# use e.g. the morgan FPG: mfpgen = rdFingerprintGenerator.GetMorganGenerator(radius=2,fpSize=2048)\n",
    "\n",
    "mfpgen = rdFingerprintGenerator.GetMorganGenerator(radius=2, fpSize=2048)\n",
    "\n"
   ]
  },
  {
   "cell_type": "markdown",
   "id": "eaf40917",
   "metadata": {},
   "source": [
    "Calculate the Tanimoto similarity of the molecules in the dataframe in comparison to a molecule of your choice (e.g. caffeine, aniline, ethanol)."
   ]
  },
  {
   "cell_type": "code",
   "execution_count": null,
   "id": "b304da59",
   "metadata": {},
   "outputs": [
    {
     "ename": "",
     "evalue": "",
     "output_type": "error",
     "traceback": [
      "\u001b[1;31mnotebook controller is DISPOSED. \n",
      "\u001b[1;31mView Jupyter <a href='command:jupyter.viewOutput'>log</a> for further details."
     ]
    },
    {
     "ename": "",
     "evalue": "",
     "output_type": "error",
     "traceback": [
      "\u001b[1;31mnotebook controller is DISPOSED. \n",
      "\u001b[1;31mView Jupyter <a href='command:jupyter.viewOutput'>log</a> for further details."
     ]
    }
   ],
   "source": [
    "query_fp = mol2fp(\"CN1C=NC2=C1C(=O)N(C(=O)N2C)C\")\n",
    "print(query_fp)\n",
    "\n",
    "df[\"similarity\"] = df[\"fingerprint\"].apply(lambda fp: DataStructs.TanimotoSimilarity(fp, query_fp))\n",
    "df"
   ]
  },
  {
   "cell_type": "markdown",
   "id": "1427bf91",
   "metadata": {},
   "source": [
    "### Part 5: Clustering molecules by strucutre\n",
    "\n",
    "Use fingerprints to group molecules into clusters (using k-means clustering) and visualise via PCA. Tasks:\n",
    "- Experiment with different numbers of clusters\n",
    "- Compute the average solubility per cluster\n",
    "- Do certain clusters correspond to highly or poorly soluble compounds?"
   ]
  },
  {
   "cell_type": "code",
   "execution_count": null,
   "id": "756d49a5",
   "metadata": {},
   "outputs": [],
   "source": [
    "from sklearn.decomposition import PCA\n",
    "from sklearn.cluster import KMeans\n",
    "import matplotlib.pyplot as plt\n",
    "\n",
    "fps = df[\"fingerprint\"].to_list()\n",
    "\n",
    "# Reduce dimensionality for visualization\n",
    "pca = PCA(n_components=2)\n",
    "X_pca = pca.fit_transform(fps)\n",
    "\n",
    "# K-means clustering\n",
    "kmeans = KMeans(n_clusters=4, random_state=42)\n",
    "clusters = kmeans.fit_predict(fps)\n",
    "df[\"cluster\"] = clusters\n",
    "\n",
    "# Visualize clusters\n",
    "plt.figure(figsize=(7,6))\n",
    "plt.scatter(X_pca[:,0], X_pca[:,1], c=clusters, cmap=\"tab10\", s=20)\n",
    "plt.title(\"Molecular Clustering based on Fingerprints (PCA projection)\")\n",
    "plt.xlabel(\"PC1\"); plt.ylabel(\"PC2\")\n",
    "plt.show()"
   ]
  },
  {
   "cell_type": "code",
   "execution_count": null,
   "id": "df7a08c6",
   "metadata": {},
   "outputs": [],
   "source": [
    "print(df.groupby(\"cluster\")[\"logS\"].mean())"
   ]
  },
  {
   "cell_type": "code",
   "execution_count": null,
   "id": "7d256b9d",
   "metadata": {},
   "outputs": [],
   "source": [
    "df[\"has_aromat\"] = df[\"SMILES\"].apply(lambda s: Chem.MolFromSmiles(s).HasSubstructMatch(Chem.MolFromSmarts(\"a\")))\n",
    "pd.crosstab(df[\"cluster\"], df[\"has_aromat\"])"
   ]
  },
  {
   "cell_type": "markdown",
   "id": "55592ea1",
   "metadata": {},
   "source": [
    "### Part 6: Substructure Search via SMARTS\n",
    "\n",
    "Search for specific functional groups or chemical motifs within the dataset using SMARTS (SMiles ARbitrary Target Specification): e.g. alcohol = \"[OX2H]\", carboxylic acid = \"C(=O)[OH]\", aromatic compounds = \"a\", amines = \"[NX3;H2,H1;!$(NC=O)]\"\n",
    "\n",
    "See here for a more detailed list of SMARTS: https://www.daylight.com/dayhtml/doc/theory/theory.smarts.html \n",
    "\n",
    "Tasks:\n",
    "- Count how many molecules contain each functional group (method: Mol.HasSubstructMatch(SMARTS)).\n",
    "- Compare average solubility for molecules with vs. without each substructure.\n",
    "- Visualize with a bar plot."
   ]
  },
  {
   "cell_type": "code",
   "execution_count": null,
   "id": "5070866f",
   "metadata": {},
   "outputs": [],
   "source": [
    "from rdkit import Chem\n",
    "\n",
    "patterns = {\n",
    "    \"Hydroxyl\": Chem.MolFromSmarts(\"[OX2H]\"),\n",
    "}\n",
    "\n",
    "\n"
   ]
  },
  {
   "cell_type": "code",
   "execution_count": null,
   "id": "a2d5e43f",
   "metadata": {},
   "outputs": [],
   "source": [
    "df[list(patterns.keys())].sum()"
   ]
  },
  {
   "cell_type": "code",
   "execution_count": null,
   "id": "fbb5f599",
   "metadata": {},
   "outputs": [],
   "source": [
    "for name in patterns.keys():\n",
    "    print(df.groupby(name)[\"logS\"].mean())"
   ]
  },
  {
   "cell_type": "code",
   "execution_count": null,
   "id": "9e3569e0",
   "metadata": {},
   "outputs": [],
   "source": [
    "import seaborn as sns\n",
    "means = {}\n",
    "\n",
    "for name in patterns.keys():\n",
    "    mean_series = df.groupby(name)[\"logS\"].mean()\n",
    "    if len(mean_series) > 1:\n",
    "        val = mean_series.iloc[1]\n",
    "        means[name] = val\n",
    "    else:\n",
    "        print(f\"No {name} in dataset\")\n",
    "\n",
    "sns.barplot(x=list(means.keys()), y=list(means.values()))\n",
    "plt.title(\"Average Solubility by Functional Group Presence\")\n",
    "plt.ylabel(\"Mean logS\")\n",
    "plt.show()"
   ]
  },
  {
   "cell_type": "code",
   "execution_count": null,
   "id": "ed647c01",
   "metadata": {},
   "outputs": [],
   "source": []
  }
 ],
 "metadata": {
  "kernelspec": {
   "display_name": "python-chemistry-intro",
   "language": "python",
   "name": "python3"
  },
  "language_info": {
   "codemirror_mode": {
    "name": "ipython",
    "version": 3
   },
   "file_extension": ".py",
   "mimetype": "text/x-python",
   "name": "python",
   "nbconvert_exporter": "python",
   "pygments_lexer": "ipython3",
   "version": "3.12.11"
  }
 },
 "nbformat": 4,
 "nbformat_minor": 5
}
