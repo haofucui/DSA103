{
 "cells": [
  {
   "cell_type": "markdown",
   "id": "d0cff410",
   "metadata": {},
   "source": [
    "## Reaction encoding using rdkit\n",
    "\n",
    "rdkit features a reaction class that specifies e.g. starting materials and products."
   ]
  },
  {
   "cell_type": "code",
   "execution_count": null,
   "id": "f41eef26",
   "metadata": {},
   "outputs": [],
   "source": [
    "from rdkit import Chem\n",
    "from rdkit.Chem import AllChem"
   ]
  },
  {
   "cell_type": "markdown",
   "id": "02041dfa",
   "metadata": {},
   "source": [
    "Using SMARTS, you can specify a general reaction scheme. E.g. for a redution of a ketone:"
   ]
  },
  {
   "cell_type": "code",
   "execution_count": null,
   "id": "5cb0ae0b",
   "metadata": {},
   "outputs": [],
   "source": [
    "rxn = AllChem.ReactionFromSmarts(\"[C:1]=O>>[C:1][OH]\")\n",
    "rxn"
   ]
  },
  {
   "cell_type": "markdown",
   "id": "d6f01248",
   "metadata": {},
   "source": [
    "This general scheme you can now use to convert a starting material into the product. Consider acetone as example:"
   ]
  },
  {
   "cell_type": "code",
   "execution_count": null,
   "id": "eae9b0c2",
   "metadata": {},
   "outputs": [],
   "source": [
    "mol = Chem.MolFromSmiles(\"CC(=O)C\")\n",
    "mol"
   ]
  },
  {
   "cell_type": "markdown",
   "id": "c0e2084c",
   "metadata": {},
   "source": [
    "Calculating the product based on the encoded reaction type, a tuple of tuples with Mol objects will be created - which you can convert into a SMILES again."
   ]
  },
  {
   "cell_type": "code",
   "execution_count": null,
   "id": "1efc38ce",
   "metadata": {},
   "outputs": [],
   "source": [
    "products = rxn.RunReactants((mol,))\n",
    "products\n",
    "\n",
    "[Chem.MolToSmiles(p[0]) for p in products]"
   ]
  }
 ],
 "metadata": {
  "kernelspec": {
   "display_name": "LifeScienceData",
   "language": "python",
   "name": "python3"
  },
  "language_info": {
   "codemirror_mode": {
    "name": "ipython",
    "version": 3
   },
   "file_extension": ".py",
   "mimetype": "text/x-python",
   "name": "python",
   "nbconvert_exporter": "python",
   "pygments_lexer": "ipython3",
   "version": "3.13.7"
  }
 },
 "nbformat": 4,
 "nbformat_minor": 5
}
