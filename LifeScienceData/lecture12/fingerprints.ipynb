{
 "cells": [
  {
   "cell_type": "markdown",
   "id": "b1d685d7",
   "metadata": {},
   "source": [
    "## Compare the similarity of two compounds via fingerprints\n",
    "\n",
    "Calculate Morgan fingerprints from two structures and compare them for chemical similarity via the Tanimoto score."
   ]
  },
  {
   "cell_type": "code",
   "execution_count": null,
   "id": "c6d94d55",
   "metadata": {},
   "outputs": [],
   "source": [
    "from rdkit import Chem\n",
    "from rdkit.Chem import rdFingerprintGenerator, DataStructs\n"
   ]
  },
  {
   "cell_type": "code",
   "execution_count": null,
   "id": "368d3ad0",
   "metadata": {},
   "outputs": [],
   "source": [
    "mol1 = Chem.MolFromSmiles(\"c1ccccc1CCO\")\n",
    "mol2 = Chem.MolFromSmiles(\"c1ccccc1CCCO\")"
   ]
  },
  {
   "cell_type": "markdown",
   "id": "d3d2d69d",
   "metadata": {},
   "source": [
    "Create the fingerprint generator:"
   ]
  },
  {
   "cell_type": "code",
   "execution_count": null,
   "id": "2bcc044a",
   "metadata": {},
   "outputs": [],
   "source": [
    "mfpgen = rdFingerprintGenerator.GetMorganGenerator(radius=2,fpSize=2048)"
   ]
  },
  {
   "cell_type": "markdown",
   "id": "21e025f1",
   "metadata": {},
   "source": [
    "Use the fingerprint generator for creating fingerprints of your molecules as bitvector:"
   ]
  },
  {
   "cell_type": "code",
   "execution_count": null,
   "id": "dedec536",
   "metadata": {},
   "outputs": [],
   "source": [
    "fp1 = mfpgen.GetFingerprint(mol1)\n",
    "fp2 = mfpgen.GetFingerprint(mol2)\n",
    "\n",
    "# fp1 = mfpgen.GetFingerprintAsNumPy(mol1) # this would create a readable numpy array\n"
   ]
  },
  {
   "cell_type": "code",
   "execution_count": null,
   "id": "9944d55f",
   "metadata": {},
   "outputs": [],
   "source": [
    "DataStructs.TanimotoSimilarity(fp1, fp2)"
   ]
  }
 ],
 "metadata": {
  "kernelspec": {
   "display_name": "LifeScienceData",
   "language": "python",
   "name": "python3"
  },
  "language_info": {
   "codemirror_mode": {
    "name": "ipython",
    "version": 3
   },
   "file_extension": ".py",
   "mimetype": "text/x-python",
   "name": "python",
   "nbconvert_exporter": "python",
   "pygments_lexer": "ipython3",
   "version": "3.13.7"
  }
 },
 "nbformat": 4,
 "nbformat_minor": 5
}
